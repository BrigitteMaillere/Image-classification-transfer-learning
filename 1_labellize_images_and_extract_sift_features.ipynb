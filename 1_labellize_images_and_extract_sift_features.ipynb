{
 "cells": [
  {
   "cell_type": "code",
   "execution_count": 21,
   "metadata": {
    "colab": {},
    "colab_type": "code",
    "id": "Rt6zyHYjpwmk"
   },
   "outputs": [],
   "source": [
    "import numpy as np\n",
    "import os\n",
    "import pandas as pd\n",
    "import matplotlib.pyplot as plt\n",
    "from sklearn.model_selection import train_test_split\n",
    "\n",
    "%matplotlib inline\n",
    "plt.style.use('ggplot')\n",
    "plt.rcParams[\"figure.figsize\"] = (14,6)"
   ]
  },
  {
   "cell_type": "code",
   "execution_count": 46,
   "metadata": {
    "colab": {},
    "colab_type": "code",
    "id": "e-KFMsrZp9vy",
    "tags": [
     "parameters"
    ]
   },
   "outputs": [],
   "source": [
    "results_path = '../'\n",
    "random_state = 20\n",
    "nb_breeds = 10\n"
   ]
  },
  {
   "cell_type": "code",
   "execution_count": 23,
   "metadata": {},
   "outputs": [],
   "source": [
    "#!wget -P /../data 'http://vision.stanford.edu/aditya86/ImageNetDogs/images.tar'\n",
    "#!tar xf /../data/images.tar -C /content/data\n",
    "#!rm -rf /content/data/images.tar"
   ]
  },
  {
   "cell_type": "code",
   "execution_count": 24,
   "metadata": {},
   "outputs": [],
   "source": [
    "# For the given path, get the List of all files in the directory tree \n",
    "\n",
    "def getListOfFiles(dirName):\n",
    "    # create a list of file and sub directories \n",
    "    # names in the given directory \n",
    "    listOfFile = os.listdir(dirName)\n",
    "    allFiles = list()\n",
    "    # Iterate over all the entries\n",
    "    for entry in listOfFile:\n",
    "        # Create full path\n",
    "        fullPath = os.path.join(dirName, entry)\n",
    "        # If entry is a directory then get the list of files in this directory \n",
    "        if os.path.isdir(fullPath):\n",
    "            allFiles = allFiles + getListOfFiles(fullPath)\n",
    "        else:\n",
    "            allFiles.append(fullPath)\n",
    "                \n",
    "    return allFiles"
   ]
  },
  {
   "cell_type": "code",
   "execution_count": 25,
   "metadata": {},
   "outputs": [],
   "source": [
    "files = getListOfFiles('../data/Images/')\n",
    "np.save('files', files)"
   ]
  },
  {
   "cell_type": "code",
   "execution_count": 26,
   "metadata": {},
   "outputs": [
    {
     "data": {
      "text/plain": [
       "['../data/Images/n02085620-Chihuahua\\\\n02085620_10074.jpg',\n",
       " '../data/Images/n02085620-Chihuahua\\\\n02085620_10131.jpg',\n",
       " '../data/Images/n02085620-Chihuahua\\\\n02085620_10621.jpg',\n",
       " '../data/Images/n02085620-Chihuahua\\\\n02085620_1073.jpg',\n",
       " '../data/Images/n02085620-Chihuahua\\\\n02085620_10976.jpg',\n",
       " '../data/Images/n02085620-Chihuahua\\\\n02085620_11140.jpg',\n",
       " '../data/Images/n02085620-Chihuahua\\\\n02085620_11238.jpg',\n",
       " '../data/Images/n02085620-Chihuahua\\\\n02085620_11258.jpg',\n",
       " '../data/Images/n02085620-Chihuahua\\\\n02085620_11337.jpg',\n",
       " '../data/Images/n02085620-Chihuahua\\\\n02085620_11477.jpg',\n",
       " '../data/Images/n02085620-Chihuahua\\\\n02085620_1152.jpg',\n",
       " '../data/Images/n02085620-Chihuahua\\\\n02085620_11696.jpg',\n",
       " '../data/Images/n02085620-Chihuahua\\\\n02085620_11818.jpg',\n",
       " '../data/Images/n02085620-Chihuahua\\\\n02085620_11948.jpg',\n",
       " '../data/Images/n02085620-Chihuahua\\\\n02085620_1205.jpg',\n",
       " '../data/Images/n02085620-Chihuahua\\\\n02085620_12101.jpg',\n",
       " '../data/Images/n02085620-Chihuahua\\\\n02085620_12334.jpg',\n",
       " '../data/Images/n02085620-Chihuahua\\\\n02085620_1235.jpg',\n",
       " '../data/Images/n02085620-Chihuahua\\\\n02085620_1271.jpg',\n",
       " '../data/Images/n02085620-Chihuahua\\\\n02085620_12718.jpg']"
      ]
     },
     "execution_count": 26,
     "metadata": {},
     "output_type": "execute_result"
    }
   ],
   "source": [
    "files[0:20]"
   ]
  },
  {
   "cell_type": "code",
   "execution_count": 27,
   "metadata": {},
   "outputs": [
    {
     "data": {
      "text/plain": [
       "'Chihuahua'"
      ]
     },
     "execution_count": 27,
     "metadata": {},
     "output_type": "execute_result"
    }
   ],
   "source": [
    "f = '../data/Annotation\\\\n02085620-Chihuahua\\\\n02085620_12718'\n",
    "f.split('-')[1].split('\\\\')[0]"
   ]
  },
  {
   "cell_type": "code",
   "execution_count": 40,
   "metadata": {},
   "outputs": [],
   "source": [
    "labels = []\n",
    "\n",
    "for f in files :\n",
    "    labels.append(f.split('-')[1].split('\\\\')[0])\n",
    "    \n",
    "df_breed_filename = pd.DataFrame({'filename' : files, 'breed' : labels})\n",
    "breeds = list(df_breed_filename.breed.unique())\n",
    "df_n_breeds_filename = df_breed_filename[df_breed_filename['breed'].isin(breeds[10:10+nb_breeds])]\n",
    "\n",
    "\n",
    "Y = df_breed_filename['breed']\n",
    "X = df_breed_filename\n",
    "\n",
    "df_train_breed_filename, df_test_breed_filename, y_train, y_test = train_test_split(X, Y, random_state=random_state)\n"
   ]
  },
  {
   "cell_type": "code",
   "execution_count": 41,
   "metadata": {},
   "outputs": [
    {
     "data": {
      "text/html": [
       "<div>\n",
       "<style scoped>\n",
       "    .dataframe tbody tr th:only-of-type {\n",
       "        vertical-align: middle;\n",
       "    }\n",
       "\n",
       "    .dataframe tbody tr th {\n",
       "        vertical-align: top;\n",
       "    }\n",
       "\n",
       "    .dataframe thead th {\n",
       "        text-align: right;\n",
       "    }\n",
       "</style>\n",
       "<table border=\"1\" class=\"dataframe\">\n",
       "  <thead>\n",
       "    <tr style=\"text-align: right;\">\n",
       "      <th></th>\n",
       "      <th>filename</th>\n",
       "      <th>breed</th>\n",
       "    </tr>\n",
       "  </thead>\n",
       "  <tbody>\n",
       "    <tr>\n",
       "      <th>17514</th>\n",
       "      <td>../data/Images/n02110958-pug\\n02110958_16217.jpg</td>\n",
       "      <td>pug</td>\n",
       "    </tr>\n",
       "    <tr>\n",
       "      <th>20394</th>\n",
       "      <td>../data/Images/n02115913-dhole\\n02115913_5392.jpg</td>\n",
       "      <td>dhole</td>\n",
       "    </tr>\n",
       "    <tr>\n",
       "      <th>14607</th>\n",
       "      <td>../data/Images/n02107142-Doberman\\n02107142_64...</td>\n",
       "      <td>Doberman</td>\n",
       "    </tr>\n",
       "    <tr>\n",
       "      <th>8317</th>\n",
       "      <td>../data/Images/n02097047-miniature_schnauzer\\n...</td>\n",
       "      <td>miniature_schnauzer</td>\n",
       "    </tr>\n",
       "    <tr>\n",
       "      <th>19121</th>\n",
       "      <td>../data/Images/n02112706-Brabancon_griffon\\n02...</td>\n",
       "      <td>Brabancon_griffon</td>\n",
       "    </tr>\n",
       "  </tbody>\n",
       "</table>\n",
       "</div>"
      ],
      "text/plain": [
       "                                                filename                breed\n",
       "17514   ../data/Images/n02110958-pug\\n02110958_16217.jpg                  pug\n",
       "20394  ../data/Images/n02115913-dhole\\n02115913_5392.jpg                dhole\n",
       "14607  ../data/Images/n02107142-Doberman\\n02107142_64...             Doberman\n",
       "8317   ../data/Images/n02097047-miniature_schnauzer\\n...  miniature_schnauzer\n",
       "19121  ../data/Images/n02112706-Brabancon_griffon\\n02...    Brabancon_griffon"
      ]
     },
     "execution_count": 41,
     "metadata": {},
     "output_type": "execute_result"
    }
   ],
   "source": [
    "df_train_breed_filename.head()"
   ]
  },
  {
   "cell_type": "code",
   "execution_count": 29,
   "metadata": {},
   "outputs": [],
   "source": [
    "import cv2\n",
    "\n",
    "sift = cv2.xfeatures2d.SIFT_create()\n",
    "sift_object = cv2.xfeatures2d.SIFT_create()\n",
    "\n",
    "df_train_descriptor = pd.DataFrame(columns = range(0,128))\n",
    "\n",
    "\n",
    "for i in range(len(df_train_breed_filename)):\n",
    "    img_filename =df_train_breed_filename.iloc[i]['filename']\n",
    "    img = cv2.imread(img_filename)\n",
    "    img_gray = cv2.cvtColor(img, cv2.COLOR_BGR2GRAY)\n",
    "    # one image: dataframe with 128 sift features colmuns and 1 row per descriptors\n",
    "    df_desc = pd.DataFrame(sift.detectAndCompute(img_gray, None)[1])\n",
    "\n",
    "    # add filename column\n",
    "    df_desc['filename'] = img_filename\n",
    "    # all images : dataframe with 128 sift feature + 1 filename feature\n",
    "    #1 row per descriptor\n",
    "    df_train_descriptor = df_train_descriptor.append(df_desc)\n",
    "\n",
    "df_test_descriptor = pd.DataFrame(columns = range(0,128))\n",
    "\n",
    "\n",
    "for i in range(len(df_test_breed_filename)):\n",
    "    img_filename =df_test_breed_filename.iloc[i]['filename']\n",
    "    img = cv2.imread(img_filename)\n",
    "    img_gray = cv2.cvtColor(img, cv2.COLOR_BGR2GRAY)\n",
    "    # one image: dataframe with 128 sift features colmuns and 1 row per descriptors\n",
    "    df_desc = pd.DataFrame(sift.detectAndCompute(img_gray, None)[1])\n",
    "\n",
    "    # add filename column\n",
    "    df_desc['filename'] = img_filename\n",
    "    # all images : dataframe with 128 sift feature + 1 filename feature\n",
    "    #1 row per descriptor\n",
    "    df_test_descriptor = df_test_descriptor.append(df_desc)"
   ]
  },
  {
   "cell_type": "code",
   "execution_count": 45,
   "metadata": {},
   "outputs": [
    {
     "data": {
      "text/html": [
       "<div>\n",
       "<style scoped>\n",
       "    .dataframe tbody tr th:only-of-type {\n",
       "        vertical-align: middle;\n",
       "    }\n",
       "\n",
       "    .dataframe tbody tr th {\n",
       "        vertical-align: top;\n",
       "    }\n",
       "\n",
       "    .dataframe thead th {\n",
       "        text-align: right;\n",
       "    }\n",
       "</style>\n",
       "<table border=\"1\" class=\"dataframe\">\n",
       "  <thead>\n",
       "    <tr style=\"text-align: right;\">\n",
       "      <th></th>\n",
       "      <th>filename</th>\n",
       "      <th>breed</th>\n",
       "    </tr>\n",
       "  </thead>\n",
       "  <tbody>\n",
       "    <tr>\n",
       "      <th>17514</th>\n",
       "      <td>../data/Images/n02110958-pug\\n02110958_16217.jpg</td>\n",
       "      <td>pug</td>\n",
       "    </tr>\n",
       "    <tr>\n",
       "      <th>20394</th>\n",
       "      <td>../data/Images/n02115913-dhole\\n02115913_5392.jpg</td>\n",
       "      <td>dhole</td>\n",
       "    </tr>\n",
       "    <tr>\n",
       "      <th>14607</th>\n",
       "      <td>../data/Images/n02107142-Doberman\\n02107142_64...</td>\n",
       "      <td>Doberman</td>\n",
       "    </tr>\n",
       "    <tr>\n",
       "      <th>8317</th>\n",
       "      <td>../data/Images/n02097047-miniature_schnauzer\\n...</td>\n",
       "      <td>miniature_schnauzer</td>\n",
       "    </tr>\n",
       "    <tr>\n",
       "      <th>19121</th>\n",
       "      <td>../data/Images/n02112706-Brabancon_griffon\\n02...</td>\n",
       "      <td>Brabancon_griffon</td>\n",
       "    </tr>\n",
       "  </tbody>\n",
       "</table>\n",
       "</div>"
      ],
      "text/plain": [
       "                                                filename                breed\n",
       "17514   ../data/Images/n02110958-pug\\n02110958_16217.jpg                  pug\n",
       "20394  ../data/Images/n02115913-dhole\\n02115913_5392.jpg                dhole\n",
       "14607  ../data/Images/n02107142-Doberman\\n02107142_64...             Doberman\n",
       "8317   ../data/Images/n02097047-miniature_schnauzer\\n...  miniature_schnauzer\n",
       "19121  ../data/Images/n02112706-Brabancon_griffon\\n02...    Brabancon_griffon"
      ]
     },
     "execution_count": 45,
     "metadata": {},
     "output_type": "execute_result"
    }
   ],
   "source": [
    "df_train_breed_filename.head()"
   ]
  },
  {
   "cell_type": "code",
   "execution_count": 47,
   "metadata": {},
   "outputs": [],
   "source": [
    "df_train_breed_filename.to_csv(results_path + 'df_train_' + str(nb_breeds) + '_breed_filename.csv', index=False)\n",
    "df_test_breed_filename.to_csv(results_path + 'df_test_' + str(nb_breeds) + '_breed_filename.csv', index=False)"
   ]
  },
  {
   "cell_type": "code",
   "execution_count": 48,
   "metadata": {},
   "outputs": [
    {
     "data": {
      "text/plain": [
       "'../'"
      ]
     },
     "execution_count": 48,
     "metadata": {},
     "output_type": "execute_result"
    }
   ],
   "source": [
    "results_path"
   ]
  },
  {
   "cell_type": "code",
   "execution_count": 34,
   "metadata": {},
   "outputs": [
    {
     "ename": "NameError",
     "evalue": "name 'df_train_descriptor' is not defined",
     "output_type": "error",
     "traceback": [
      "\u001b[1;31m---------------------------------------------------------------------------\u001b[0m",
      "\u001b[1;31mNameError\u001b[0m                                 Traceback (most recent call last)",
      "\u001b[1;32m<ipython-input-34-9fd0303a242e>\u001b[0m in \u001b[0;36m<module>\u001b[1;34m\u001b[0m\n\u001b[0;32m      8\u001b[0m \u001b[0mnp\u001b[0m\u001b[1;33m.\u001b[0m\u001b[0msave\u001b[0m\u001b[1;33m(\u001b[0m\u001b[0mresults_path\u001b[0m \u001b[1;33m+\u001b[0m \u001b[1;34m'y_test_'\u001b[0m \u001b[1;33m+\u001b[0m \u001b[0mstr\u001b[0m\u001b[1;33m(\u001b[0m\u001b[0mnb_breeds\u001b[0m\u001b[1;33m)\u001b[0m \u001b[1;33m+\u001b[0m \u001b[1;34m'_breeds'\u001b[0m\u001b[1;33m,\u001b[0m \u001b[0my_test\u001b[0m\u001b[1;33m)\u001b[0m\u001b[1;33m\u001b[0m\u001b[1;33m\u001b[0m\u001b[0m\n\u001b[0;32m      9\u001b[0m \u001b[1;33m\u001b[0m\u001b[0m\n\u001b[1;32m---> 10\u001b[1;33m \u001b[0mdf_train_descriptor\u001b[0m\u001b[1;33m.\u001b[0m\u001b[0mto_csv\u001b[0m\u001b[1;33m(\u001b[0m\u001b[0mresults_path\u001b[0m \u001b[1;33m+\u001b[0m \u001b[1;34m'df_train_'\u001b[0m \u001b[1;33m+\u001b[0m \u001b[0mstr\u001b[0m\u001b[1;33m(\u001b[0m\u001b[0mnb_breeds\u001b[0m\u001b[1;33m)\u001b[0m \u001b[1;33m+\u001b[0m \u001b[1;34m'_descriptor.csv'\u001b[0m\u001b[1;33m,\u001b[0m \u001b[0mindex\u001b[0m\u001b[1;33m=\u001b[0m\u001b[1;32mFalse\u001b[0m\u001b[1;33m)\u001b[0m\u001b[1;33m\u001b[0m\u001b[1;33m\u001b[0m\u001b[0m\n\u001b[0m\u001b[0;32m     11\u001b[0m \u001b[0mdf_test_descriptor\u001b[0m\u001b[1;33m.\u001b[0m\u001b[0mto_csv\u001b[0m\u001b[1;33m(\u001b[0m\u001b[0mresults_path\u001b[0m \u001b[1;33m+\u001b[0m \u001b[1;34m'df_test_'\u001b[0m \u001b[1;33m+\u001b[0m \u001b[0mstr\u001b[0m\u001b[1;33m(\u001b[0m\u001b[0mnb_breeds\u001b[0m\u001b[1;33m)\u001b[0m \u001b[1;33m+\u001b[0m \u001b[1;34m'_descriptor.csv'\u001b[0m\u001b[1;33m,\u001b[0m \u001b[0mindex\u001b[0m\u001b[1;33m=\u001b[0m\u001b[1;32mFalse\u001b[0m\u001b[1;33m)\u001b[0m\u001b[1;33m\u001b[0m\u001b[1;33m\u001b[0m\u001b[0m\n",
      "\u001b[1;31mNameError\u001b[0m: name 'df_train_descriptor' is not defined"
     ]
    }
   ],
   "source": [
    "df_breed_filename.to_csv(results_path + 'df_breed_filename.csv', index=False)\n",
    "df_n_breeds_filename.to_csv(results_path + 'df_' + str(nb_breeds) + '_breeds_filename.csv', index=False)\n",
    "\n",
    "df_train_breed_filename.to_csv(results_path + 'df_train_' + str(nb_breeds) + '_breed_filename.csv', index=False)\n",
    "df_test_breed_filename.to_csv(results_path + 'df_test_' + str(nb_breeds) + '_breed_filename.csv', index=False)\n",
    "\n",
    "np.save(results_path + 'y_train_' + str(nb_breeds) + '_breeds', y_train)\n",
    "np.save(results_path + 'y_test_' + str(nb_breeds) + '_breeds', y_test)\n",
    "\n",
    "df_train_descriptor.to_csv(results_path + 'df_train_' + str(nb_breeds) + '_descriptor.csv', index=False)\n",
    "df_test_descriptor.to_csv(results_path + 'df_test_' + str(nb_breeds) + '_descriptor.csv', index=False)"
   ]
  },
  {
   "cell_type": "code",
   "execution_count": null,
   "metadata": {},
   "outputs": [],
   "source": []
  }
 ],
 "metadata": {
  "celltoolbar": "Tags",
  "colab": {
   "collapsed_sections": [],
   "name": "0_params.ipynb",
   "provenance": [],
   "version": "0.3.2"
  },
  "hide_input": false,
  "kernelspec": {
   "display_name": "Python 3",
   "language": "python",
   "name": "python3"
  },
  "language_info": {
   "codemirror_mode": {
    "name": "ipython",
    "version": 3
   },
   "file_extension": ".py",
   "mimetype": "text/x-python",
   "name": "python",
   "nbconvert_exporter": "python",
   "pygments_lexer": "ipython3",
   "version": "3.6.8"
  },
  "toc": {
   "base_numbering": 1,
   "nav_menu": {},
   "number_sections": true,
   "sideBar": true,
   "skip_h1_title": false,
   "title_cell": "Table of Contents",
   "title_sidebar": "Contents",
   "toc_cell": false,
   "toc_position": {},
   "toc_section_display": true,
   "toc_window_display": false
  }
 },
 "nbformat": 4,
 "nbformat_minor": 1
}
